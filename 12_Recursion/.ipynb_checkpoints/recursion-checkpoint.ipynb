{
 "cells": [
  {
   "cell_type": "markdown",
   "metadata": {
    "state": "normal"
   },
   "source": [
    "# On Recursion"
   ]
  },
  {
   "cell_type": "markdown",
   "metadata": {
    "state": "normal"
   },
   "source": [
    "## Agenda\n",
    "\n",
    "1. Recursion\n",
    "    - stopping recursion: simplification & base cases\n",
    "2. Recursive \"shapes\":\n",
    "    - Linear (single) recursion:\n",
    "        - Summation\n",
    "        - Factorial\n",
    "        - Binary search\n",
    "    - Tree (multiple) recursion: *divide and conquer*\n",
    "        - Fibonacci sequence\n",
    "        - Tower of Hanoi\n",
    "        - Merge sort\n",
    "        - Making change\n",
    "3. The Call Stack and Stack Frames\n",
    "    - simulating recursion\n",
    "    - debugging with `pdb` and `%debug`"
   ]
  },
  {
   "cell_type": "markdown",
   "metadata": {
    "state": "normal"
   },
   "source": [
    "## 1. Recursion"
   ]
  },
  {
   "cell_type": "markdown",
   "metadata": {
    "state": "normal"
   },
   "source": [
    "Recursive functions, directly or indirectly, call themselves. \n",
    "\n",
    "Recursive solutions are applicable when a problem can be broken down into more easily solved sub-problems that resemble the original, and whose solutions can then be combined.\n",
    "\n",
    "E.g., computing the combined price of a bunch of nested shopping bags of items:"
   ]
  },
  {
   "cell_type": "code",
   "execution_count": 60,
   "metadata": {
    "state": "normal"
   },
   "outputs": [],
   "source": [
    "class Bag:\n",
    "    def __init__(self, price, *contents):\n",
    "        self.price = price\n",
    "        self.contents = contents"
   ]
  },
  {
   "cell_type": "code",
   "execution_count": 61,
   "metadata": {
    "state": "normal"
   },
   "outputs": [],
   "source": [
    "bag1 = Bag(10)"
   ]
  },
  {
   "cell_type": "code",
   "execution_count": 62,
   "metadata": {
    "state": "normal"
   },
   "outputs": [],
   "source": [
    "bag2 = Bag(5, \n",
    "           Bag(3), \n",
    "           Bag(7))"
   ]
  },
  {
   "cell_type": "code",
   "execution_count": 63,
   "metadata": {
    "state": "normal"
   },
   "outputs": [],
   "source": [
    "bag3 = Bag(5, \n",
    "           Bag(4, \n",
    "               Bag(3)), \n",
    "           Bag(2))"
   ]
  },
  {
   "cell_type": "code",
   "execution_count": 64,
   "metadata": {
    "state": "normal"
   },
   "outputs": [],
   "source": [
    "bag4 = Bag(0, \n",
    "           Bag(5), \n",
    "           Bag(10), \n",
    "           Bag(3, \n",
    "               Bag(2), \n",
    "               Bag(100)), \n",
    "           Bag(9, \n",
    "               Bag(2, \n",
    "                   Bag(25))))"
   ]
  },
  {
   "cell_type": "code",
   "execution_count": 65,
   "metadata": {
    "state": "normal"
   },
   "outputs": [],
   "source": [
    "def price(bag):\n",
    "    total = bag.price\n",
    "    for b in bag.contents:\n",
    "        total += price(b)\n",
    "    return total"
   ]
  },
  {
   "cell_type": "code",
   "execution_count": 66,
   "metadata": {
    "state": "normal"
   },
   "outputs": [
    {
     "data": {
      "text/plain": [
       "156"
      ]
     },
     "execution_count": 66,
     "metadata": {},
     "output_type": "execute_result"
    }
   ],
   "source": [
    "price(bag4)"
   ]
  },
  {
   "cell_type": "markdown",
   "metadata": {
    "state": "normal"
   },
   "source": [
    "### Stopping recursion: simplification & base case(s)"
   ]
  },
  {
   "cell_type": "code",
   "execution_count": 67,
   "metadata": {
    "state": "normal"
   },
   "outputs": [],
   "source": [
    "import sys\n",
    "sys.setrecursionlimit(500)"
   ]
  },
  {
   "cell_type": "code",
   "execution_count": 68,
   "metadata": {
    "state": "normal"
   },
   "outputs": [],
   "source": [
    "def silly_rec(n):\n",
    "    print(n)\n",
    "    if n <= 0:\n",
    "        return\n",
    "    else:\n",
    "        silly_rec(n-1)"
   ]
  },
  {
   "cell_type": "code",
   "execution_count": 69,
   "metadata": {
    "state": "normal"
   },
   "outputs": [
    {
     "name": "stdout",
     "output_type": "stream",
     "text": [
      "10\n",
      "9\n",
      "8\n",
      "7\n",
      "6\n",
      "5\n",
      "4\n",
      "3\n",
      "2\n",
      "1\n",
      "0\n"
     ]
    }
   ],
   "source": [
    "silly_rec(10)"
   ]
  },
  {
   "cell_type": "markdown",
   "metadata": {
    "state": "normal"
   },
   "source": [
    "## 2. Recursive \"shapes\""
   ]
  },
  {
   "cell_type": "markdown",
   "metadata": {
    "state": "normal"
   },
   "source": [
    "### Linear recursion"
   ]
  },
  {
   "cell_type": "markdown",
   "metadata": {
    "state": "normal"
   },
   "source": [
    "#### Example: Sum (of input ≥ 0)\n",
    "\n",
    "$sum(n) = \\begin{cases}\n",
    "        0 & \\text{if}\\ n=0 \\\\\n",
    "        n + sum(n-1) & \\text{if}\\ n>0\n",
    "      \\end{cases}$\n",
    "\n",
    "\n",
    "E.g., \n",
    "\n",
    "$\n",
    "\\begin{align}\n",
    "sum(5) & = 5 + sum(4)\\\\\n",
    "       & = 5 + 4 + sum(3)\\\\\n",
    "       & = 5 + 4 + 3 + sum(2)\\\\\n",
    "       & = 5 + 4 + 3 + 2 + sum(1)\\\\\n",
    "       & = 5 + 4 + 3 + 2 + 1 + sum(0)\\\\\n",
    "       & = 5 + 4 + 3 + 2 + 1 + 0\n",
    "\\end{align}\n",
    "$"
   ]
  },
  {
   "cell_type": "code",
   "execution_count": 70,
   "metadata": {
    "state": "normal"
   },
   "outputs": [],
   "source": [
    "def sum(n):\n",
    "    if n == 0:\n",
    "        return 0\n",
    "    else:\n",
    "        return n + sum(n-1)"
   ]
  },
  {
   "cell_type": "code",
   "execution_count": 71,
   "metadata": {
    "state": "normal"
   },
   "outputs": [
    {
     "data": {
      "text/plain": [
       "15"
      ]
     },
     "execution_count": 71,
     "metadata": {},
     "output_type": "execute_result"
    }
   ],
   "source": [
    "sum(5)"
   ]
  },
  {
   "cell_type": "markdown",
   "metadata": {
    "state": "normal"
   },
   "source": [
    "#### Example: Factorial\n",
    "\n",
    "$n! = \\begin{cases}\n",
    "        1 & \\text{if}\\ n=0 \\\\\n",
    "        n \\cdot (n-1)! & \\text{if}\\ n>0\n",
    "      \\end{cases}$"
   ]
  },
  {
   "cell_type": "code",
   "execution_count": 72,
   "metadata": {
    "state": "normal"
   },
   "outputs": [],
   "source": [
    "def factorial(n):\n",
    "    if n == 0:\n",
    "        return 1\n",
    "    else:\n",
    "        return n * factorial(n-1)"
   ]
  },
  {
   "cell_type": "code",
   "execution_count": 73,
   "metadata": {
    "state": "normal"
   },
   "outputs": [
    {
     "data": {
      "text/plain": [
       "120"
      ]
     },
     "execution_count": 73,
     "metadata": {},
     "output_type": "execute_result"
    }
   ],
   "source": [
    "factorial(5)"
   ]
  },
  {
   "cell_type": "markdown",
   "metadata": {
    "state": "normal"
   },
   "source": [
    "#### Example: Binary search"
   ]
  },
  {
   "cell_type": "code",
   "execution_count": 74,
   "metadata": {
    "state": "normal"
   },
   "outputs": [],
   "source": [
    "def bin_search(x, lst):\n",
    "    print(lst)\n",
    "    if len(lst) == 0:\n",
    "        return False\n",
    "    else:\n",
    "        mid = len(lst) // 2\n",
    "        if lst[mid] == x:\n",
    "            return True\n",
    "        elif lst[mid] < x:\n",
    "            return bin_search(x, lst[mid+1:])\n",
    "        else:\n",
    "            return bin_search(x, lst[:mid])"
   ]
  },
  {
   "cell_type": "code",
   "execution_count": 75,
   "metadata": {
    "state": "normal"
   },
   "outputs": [
    {
     "name": "stdout",
     "output_type": "stream",
     "text": [
      "[0, 1, 2, 3, 4, 5, 6, 7, 8, 9, 10, 11, 12, 13, 14, 15, 16, 17, 18, 19, 20, 21, 22, 23, 24, 25, 26, 27, 28, 29, 30, 31, 32, 33, 34, 35, 36, 37, 38, 39, 40, 41, 42, 43, 44, 45, 46, 47, 48, 49, 50, 51, 52, 53, 54, 55, 56, 57, 58, 59, 60, 61, 62, 63, 64, 65, 66, 67, 68, 69, 70, 71, 72, 73, 74, 75, 76, 77, 78, 79, 80, 81, 82, 83, 84, 85, 86, 87, 88, 89, 90, 91, 92, 93, 94, 95, 96, 97, 98, 99]\n",
      "[0, 1, 2, 3, 4, 5, 6, 7, 8, 9, 10, 11, 12, 13, 14, 15, 16, 17, 18, 19, 20, 21, 22, 23, 24, 25, 26, 27, 28, 29, 30, 31, 32, 33, 34, 35, 36, 37, 38, 39, 40, 41, 42, 43, 44, 45, 46, 47, 48, 49]\n"
     ]
    },
    {
     "data": {
      "text/plain": [
       "True"
      ]
     },
     "execution_count": 75,
     "metadata": {},
     "output_type": "execute_result"
    }
   ],
   "source": [
    "bin_search(25, list(range(100)))"
   ]
  },
  {
   "cell_type": "code",
   "execution_count": 76,
   "metadata": {
    "state": "normal"
   },
   "outputs": [
    {
     "name": "stdout",
     "output_type": "stream",
     "text": [
      "[0, 1, 2, 3, 4, 5, 6, 7, 8, 9, 10, 11, 12, 13, 14, 15, 16, 17, 18, 19, 20, 21, 22, 23, 24, 25, 26, 27, 28, 29, 30, 31, 32, 33, 34, 35, 36, 37, 38, 39, 40, 41, 42, 43, 44, 45, 46, 47, 48, 49, 50, 51, 52, 53, 54, 55, 56, 57, 58, 59, 60, 61, 62, 63, 64, 65, 66, 67, 68, 69, 70, 71, 72, 73, 74, 75, 76, 77, 78, 79, 80, 81, 82, 83, 84, 85, 86, 87, 88, 89, 90, 91, 92, 93, 94, 95, 96, 97, 98, 99]\n",
      "[51, 52, 53, 54, 55, 56, 57, 58, 59, 60, 61, 62, 63, 64, 65, 66, 67, 68, 69, 70, 71, 72, 73, 74, 75, 76, 77, 78, 79, 80, 81, 82, 83, 84, 85, 86, 87, 88, 89, 90, 91, 92, 93, 94, 95, 96, 97, 98, 99]\n",
      "[76, 77, 78, 79, 80, 81, 82, 83, 84, 85, 86, 87, 88, 89, 90, 91, 92, 93, 94, 95, 96, 97, 98, 99]\n",
      "[89, 90, 91, 92, 93, 94, 95, 96, 97, 98, 99]\n",
      "[95, 96, 97, 98, 99]\n",
      "[98, 99]\n"
     ]
    },
    {
     "data": {
      "text/plain": [
       "True"
      ]
     },
     "execution_count": 76,
     "metadata": {},
     "output_type": "execute_result"
    }
   ],
   "source": [
    "bin_search(99, list(range(100)))"
   ]
  },
  {
   "cell_type": "code",
   "execution_count": 77,
   "metadata": {
    "state": "normal"
   },
   "outputs": [
    {
     "name": "stdout",
     "output_type": "stream",
     "text": [
      "[0, 1, 2, 3, 4, 5, 6, 7, 8, 9, 10, 11, 12, 13, 14, 15, 16, 17, 18, 19, 20, 21, 22, 23, 24, 25, 26, 27, 28, 29, 30, 31, 32, 33, 34, 35, 36, 37, 38, 39, 40, 41, 42, 43, 44, 45, 46, 47, 48, 49, 50, 51, 52, 53, 54, 55, 56, 57, 58, 59, 60, 61, 62, 63, 64, 65, 66, 67, 68, 69, 70, 71, 72, 73, 74, 75, 76, 77, 78, 79, 80, 81, 82, 83, 84, 85, 86, 87, 88, 89, 90, 91, 92, 93, 94, 95, 96, 97, 98, 99]\n",
      "[51, 52, 53, 54, 55, 56, 57, 58, 59, 60, 61, 62, 63, 64, 65, 66, 67, 68, 69, 70, 71, 72, 73, 74, 75, 76, 77, 78, 79, 80, 81, 82, 83, 84, 85, 86, 87, 88, 89, 90, 91, 92, 93, 94, 95, 96, 97, 98, 99]\n",
      "[76, 77, 78, 79, 80, 81, 82, 83, 84, 85, 86, 87, 88, 89, 90, 91, 92, 93, 94, 95, 96, 97, 98, 99]\n",
      "[89, 90, 91, 92, 93, 94, 95, 96, 97, 98, 99]\n",
      "[95, 96, 97, 98, 99]\n",
      "[98, 99]\n",
      "[]\n"
     ]
    },
    {
     "data": {
      "text/plain": [
       "False"
      ]
     },
     "execution_count": 77,
     "metadata": {},
     "output_type": "execute_result"
    }
   ],
   "source": [
    "bin_search(100, list(range(100)))"
   ]
  },
  {
   "cell_type": "markdown",
   "metadata": {
    "state": "normal"
   },
   "source": [
    "### Tree recursion"
   ]
  },
  {
   "cell_type": "markdown",
   "metadata": {
    "state": "normal"
   },
   "source": [
    "#### Example: Fibonacci numbers\n",
    "\n",
    "$fib(n) = \\begin{cases}\n",
    "            0 & \\text{if}\\ n=0 \\\\\n",
    "            1 & \\text{if}\\ n=1 \\\\\n",
    "            fib(n-1) + fib(n-2) & \\text{otherwise}\n",
    "          \\end{cases}$\n",
    "          \n",
    "i.e., 0, 1, 1, 2, 3, 5, 8, 13, 21, ..."
   ]
  },
  {
   "cell_type": "code",
   "execution_count": 78,
   "metadata": {
    "state": "normal"
   },
   "outputs": [],
   "source": [
    "def fib(n):\n",
    "    if n == 0:\n",
    "        return 0\n",
    "    elif n == 1:\n",
    "        return 1\n",
    "    else:\n",
    "        return fib(n-1) + fib(n-2)"
   ]
  },
  {
   "cell_type": "code",
   "execution_count": 79,
   "metadata": {
    "state": "normal"
   },
   "outputs": [
    {
     "data": {
      "text/plain": [
       "6765"
      ]
     },
     "execution_count": 79,
     "metadata": {},
     "output_type": "execute_result"
    }
   ],
   "source": [
    "fib(20)"
   ]
  },
  {
   "cell_type": "code",
   "execution_count": 80,
   "metadata": {},
   "outputs": [
    {
     "data": {
      "text/plain": [
       "[0, 1, 1, 2, 3, 5, 8, 13, 21, 34, 55, 89, 144, 233, 377]"
      ]
     },
     "execution_count": 80,
     "metadata": {},
     "output_type": "execute_result"
    }
   ],
   "source": [
    "[fib(i) for i in range(15)]"
   ]
  },
  {
   "cell_type": "code",
   "execution_count": 81,
   "metadata": {},
   "outputs": [],
   "source": [
    "def fib_iter(n):\n",
    "    f0 = 0\n",
    "    f1 = 1\n",
    "    for _ in range(n):\n",
    "        f0, f1 = f1, f0+f1\n",
    "    return f0"
   ]
  },
  {
   "cell_type": "code",
   "execution_count": 82,
   "metadata": {},
   "outputs": [
    {
     "data": {
      "text/plain": [
       "6765"
      ]
     },
     "execution_count": 82,
     "metadata": {},
     "output_type": "execute_result"
    }
   ],
   "source": [
    "fib_iter(20)"
   ]
  },
  {
   "cell_type": "code",
   "execution_count": 83,
   "metadata": {},
   "outputs": [
    {
     "data": {
      "text/plain": [
       "280571172992510140037611932413038677189525"
      ]
     },
     "execution_count": 83,
     "metadata": {},
     "output_type": "execute_result"
    }
   ],
   "source": [
    "fib_iter(200)"
   ]
  },
  {
   "cell_type": "markdown",
   "metadata": {
    "state": "normal"
   },
   "source": [
    "#### Example: Tower of Hanoi\n",
    "\n",
    "Setup: three rods, with one or more discs of different sizes all stacked on one rod, smallest (top) to largest (bottom). E.g.,\n",
    "\n",
    "         ||          ||          ||     \n",
    "         ==          ||          ||     \n",
    "        ====         ||          ||     \n",
    "       ======        ||          ||     \n",
    "    ------------------------------------\n",
    "    \n",
    "Goal: move all the discs, one by one, to another rod, with the rules being that (1) only smaller discs can be stacked on larger ones and (2) only the top disc in a stack can be moved to another rod.\n",
    "\n",
    "For three discs, as shown above, we would carry out the following sequence to move the stack to the rightmost rod. The rods are abbreviated L (left), M (middle), R (right):\n",
    "1. Move the small disc (0) from L to R\n",
    "2. Move the medium disc (1) from L to M\n",
    "3. Move 0 from R to M (R is empty)\n",
    "4. Move the large disc (2) from L to R\n",
    "5. Move 0 from M to L\n",
    "6. Move 1 from M to R\n",
    "7. Move 0 from L to R (done)\n",
    "\n",
    "Can you come up with the sequence needed to move a stack of 4 discs from one rod to another? 5 discs? An arbitrary number of discs?"
   ]
  },
  {
   "cell_type": "code",
   "execution_count": 84,
   "metadata": {
    "state": "normal"
   },
   "outputs": [],
   "source": [
    "height = 3\n",
    "towers = [[] for _ in range(3)]\n",
    "towers[0] = list(range(height, 0, -1))"
   ]
  },
  {
   "cell_type": "code",
   "execution_count": 85,
   "metadata": {
    "state": "normal"
   },
   "outputs": [
    {
     "data": {
      "text/plain": [
       "[[3, 2, 1], [], []]"
      ]
     },
     "execution_count": 85,
     "metadata": {},
     "output_type": "execute_result"
    }
   ],
   "source": [
    "towers"
   ]
  },
  {
   "cell_type": "code",
   "execution_count": 86,
   "metadata": {
    "state": "normal"
   },
   "outputs": [],
   "source": [
    "from time import sleep\n",
    "from IPython.display import clear_output\n",
    "\n",
    "def display():\n",
    "    clear_output(True)\n",
    "    print('{:^12}'.format('||') * 3)\n",
    "    for level in range(height, 0, -1):\n",
    "        for t in towers:\n",
    "            try:\n",
    "                print('{:^12}'.format('==' * t[level-1]), end='')\n",
    "            except IndexError:\n",
    "                print('{:^12}'.format('||'), end='')\n",
    "        print()\n",
    "    print('-' * 36)\n",
    "    sleep(1)"
   ]
  },
  {
   "cell_type": "code",
   "execution_count": 87,
   "metadata": {
    "state": "normal"
   },
   "outputs": [
    {
     "name": "stdout",
     "output_type": "stream",
     "text": [
      "     ||          ||          ||     \n",
      "     ==          ||          ||     \n",
      "    ====         ||          ||     \n",
      "   ======        ||          ||     \n",
      "------------------------------------\n"
     ]
    }
   ],
   "source": [
    "display()"
   ]
  },
  {
   "cell_type": "code",
   "execution_count": 88,
   "metadata": {
    "state": "normal"
   },
   "outputs": [],
   "source": [
    "def move(frm, to):\n",
    "    towers[to].append(towers[frm].pop(-1))\n",
    "    display()"
   ]
  },
  {
   "cell_type": "code",
   "execution_count": 89,
   "metadata": {},
   "outputs": [
    {
     "name": "stdout",
     "output_type": "stream",
     "text": [
      "     ||          ||          ||     \n",
      "     ||          ||          ||     \n",
      "    ====         ||          ||     \n",
      "   ======        ||          ==     \n",
      "------------------------------------\n"
     ]
    }
   ],
   "source": [
    "move(0, 2)"
   ]
  },
  {
   "cell_type": "code",
   "execution_count": 90,
   "metadata": {
    "state": "normal"
   },
   "outputs": [],
   "source": [
    "def hanoi(frm, to, using, levels):\n",
    "    if levels == 1:\n",
    "        move(frm, to)\n",
    "    else:\n",
    "        hanoi(frm, using, to, levels-1)\n",
    "        move(frm, to)\n",
    "        hanoi(using, to, frm, levels-1)"
   ]
  },
  {
   "cell_type": "code",
   "execution_count": 91,
   "metadata": {
    "state": "normal"
   },
   "outputs": [
    {
     "name": "stdout",
     "output_type": "stream",
     "text": [
      "     ||          ||          ||     \n",
      "     ||          ||          ==     \n",
      "     ||          ||         ====    \n",
      "     ||          ||        ======   \n",
      "     ||          ||       ========  \n",
      "------------------------------------\n"
     ]
    }
   ],
   "source": [
    "height = 4\n",
    "towers = [[] for _ in range(3)]\n",
    "towers[0] = list(range(height, 0, -1))\n",
    "\n",
    "hanoi(0, 2, 1, height)"
   ]
  },
  {
   "cell_type": "markdown",
   "metadata": {
    "state": "normal"
   },
   "source": [
    "#### Example: Mergesort"
   ]
  },
  {
   "cell_type": "code",
   "execution_count": 92,
   "metadata": {
    "state": "normal"
   },
   "outputs": [],
   "source": [
    "def merge(l1, l2): # O(N), where N is the number of elements in the two lists\n",
    "    merged = []\n",
    "    i1 = i2 = 0\n",
    "    while i1 < len(l1) or i2 < len(l2):\n",
    "        if i2 == len(l2) or (i1 < len(l1) \n",
    "                             and l1[i1] < l2[i2]):\n",
    "            merged.append(l1[i1])\n",
    "            i1 += 1\n",
    "        else:\n",
    "            merged.append(l2[i2])\n",
    "            i2 += 1\n",
    "    return merged"
   ]
  },
  {
   "cell_type": "code",
   "execution_count": 93,
   "metadata": {
    "state": "normal"
   },
   "outputs": [
    {
     "data": {
      "text/plain": [
       "[1, 2, 5, 6, 8, 9, 11]"
      ]
     },
     "execution_count": 93,
     "metadata": {},
     "output_type": "execute_result"
    }
   ],
   "source": [
    "l1 = [1, 5, 9]\n",
    "l2 = [2, 6, 8, 11]\n",
    "merge(l1, l2)"
   ]
  },
  {
   "cell_type": "code",
   "execution_count": 94,
   "metadata": {
    "state": "normal"
   },
   "outputs": [],
   "source": [
    "def mergesort(lst):\n",
    "    if len(lst) <= 1:\n",
    "        return lst\n",
    "    else:\n",
    "        mid = len(lst) // 2\n",
    "        return merge(mergesort(lst[:mid]), mergesort(lst[mid:]))"
   ]
  },
  {
   "cell_type": "code",
   "execution_count": 95,
   "metadata": {
    "state": "normal"
   },
   "outputs": [
    {
     "data": {
      "image/png": "[encoded data removed]",
      "text/plain": [
       "<Figure size 432x288 with 1 Axes>"
      ]
     },
     "metadata": {
      "needs_background": "light"
     },
     "output_type": "display_data"
    }
   ],
   "source": [
    "import matplotlib.pyplot as plt\n",
    "import numpy as np\n",
    "import random\n",
    "%matplotlib inline\n",
    "\n",
    "lst = list(range(100))\n",
    "random.shuffle(lst)\n",
    "plt.plot(lst, 'ro');"
   ]
  },
  {
   "cell_type": "code",
   "execution_count": 96,
   "metadata": {
    "state": "normal"
   },
   "outputs": [
    {
     "data": {
      "image/png": "[encoded data removed]",
      "text/plain": [
       "<Figure size 432x288 with 1 Axes>"
      ]
     },
     "metadata": {
      "needs_background": "light"
     },
     "output_type": "display_data"
    }
   ],
   "source": [
    "plt.plot(mergesort(lst), 'ro');"
   ]
  },
  {
   "cell_type": "code",
   "execution_count": 97,
   "metadata": {
    "state": "normal"
   },
   "outputs": [],
   "source": [
    "def insertion_sort(lst):\n",
    "    for i in range(1, len(lst)):\n",
    "        for j in range(i, 0, -1):\n",
    "            if lst[j-1] > lst[j]:\n",
    "                lst[j-1], lst[j] = lst[j], lst[j-1] # swap\n",
    "            else:\n",
    "                break   "
   ]
  },
  {
   "cell_type": "code",
   "execution_count": 98,
   "metadata": {
    "state": "normal"
   },
   "outputs": [],
   "source": [
    "class Heap:\n",
    "    def __init__(self):\n",
    "        self.data = []\n",
    "        \n",
    "    @staticmethod\n",
    "    def _parent(idx):\n",
    "        return (idx - 1) // 2\n",
    "    \n",
    "    @staticmethod\n",
    "    def _left(idx):\n",
    "        return idx*2 + 1\n",
    "\n",
    "    @staticmethod\n",
    "    def _right(idx):\n",
    "        return idx*2 + 2\n",
    "\n",
    "    def __init__(self, iterable=None):\n",
    "        if not iterable:\n",
    "            self.data = []\n",
    "        else:\n",
    "            self.data = list(iterable)\n",
    "            last_internal_idx = Heap._parent(len(self.data)-1)\n",
    "            for i in range(last_internal_idx, -1, -1):\n",
    "                self._heapify(i)\n",
    "\n",
    "    def add(self, x):\n",
    "        self.data.append(x)\n",
    "        idx = len(self.data) - 1\n",
    "        while idx > 0:\n",
    "            pidx = Heap._parent(idx)\n",
    "            if self.data[pidx] < self.data[idx]:\n",
    "                self.data[pidx], self.data[idx] = self.data[idx], self.data[pidx]\n",
    "                idx = pidx\n",
    "            else:\n",
    "                break    \n",
    "                                \n",
    "    def max(self):\n",
    "        assert len(self) > 0\n",
    "        return self.data[0]\n",
    "\n",
    "    def _heapify(self, idx):\n",
    "        while idx < len(self.data):\n",
    "            lidx = Heap._left(idx)\n",
    "            ridx = Heap._right(idx)\n",
    "            maxidx = idx\n",
    "            if lidx < len(self.data) and self.data[lidx] > self.data[idx]:\n",
    "                maxidx = lidx\n",
    "            if ridx < len(self.data) and self.data[ridx] > self.data[maxidx]:\n",
    "                maxidx = ridx\n",
    "            if maxidx != idx:\n",
    "                self.data[idx], self.data[maxidx] = self.data[maxidx], self.data[idx]\n",
    "                idx = maxidx\n",
    "            else:\n",
    "                break\n",
    "\n",
    "    def pop_max(self):\n",
    "        assert len(self) > 0\n",
    "        ret = self.data[0]\n",
    "        self.data[0] = self.data[-1]\n",
    "        del self.data[-1]\n",
    "        self._heapify(0)\n",
    "        return ret\n",
    "    \n",
    "    def __bool__(self):\n",
    "        return len(self.data) > 0\n",
    "\n",
    "    def __len__(self):\n",
    "        return len(self.data)\n",
    "\n",
    "    def __repr__(self):\n",
    "        return repr(self.data)\n",
    "\n",
    "    \n",
    "def heapsort(iterable):\n",
    "    h = Heap(iterable)\n",
    "    ret = []\n",
    "    while h:\n",
    "        ret.append(h.pop_max())\n",
    "    ret.reverse()\n",
    "    return ret"
   ]
  },
  {
   "cell_type": "code",
   "execution_count": 99,
   "metadata": {
    "state": "normal"
   },
   "outputs": [],
   "source": [
    "import timeit\n",
    "import random\n",
    "\n",
    "insertionsort_times = []\n",
    "heapsort_times = []\n",
    "mergesort_times = []\n",
    "\n",
    "for size in range(100, 3000, 100):\n",
    "    insertionsort_times.append(timeit.timeit(stmt='insertion_sort(lst)',\n",
    "                               setup=f'lst = random.sample(range(1_000_000), {size})',\n",
    "                               globals=globals(),\n",
    "                               number=1))\n",
    "    heapsort_times.append(timeit.timeit(stmt='heapsort(lst)',\n",
    "                               setup=f'lst = random.sample(range(1_000_000), {size})',\n",
    "                               globals=globals(),\n",
    "                               number=1))\n",
    "    mergesort_times.append(timeit.timeit(stmt='mergesort(lst)',\n",
    "                               setup=f'lst = random.sample(range(1_000_000), {size})',\n",
    "                               globals=globals(),\n",
    "                               number=1))"
   ]
  },
  {
   "cell_type": "code",
   "execution_count": 100,
   "metadata": {
    "state": "normal"
   },
   "outputs": [
    {
     "data": {
      "image/png": "[encoded data removed]",
      "text/plain": [
       "<Figure size 432x288 with 1 Axes>"
      ]
     },
     "metadata": {
      "needs_background": "light"
     },
     "output_type": "display_data"
    }
   ],
   "source": [
    "%matplotlib inline\n",
    "import matplotlib.pyplot as plt\n",
    "plt.plot(insertionsort_times, 'ro')\n",
    "plt.plot(heapsort_times, 'b^')\n",
    "plt.plot(mergesort_times, 'gs');"
   ]
  },
  {
   "cell_type": "markdown",
   "metadata": {
    "state": "normal"
   },
   "source": [
    "#### Example: Making Change\n",
    "\n",
    "Question: how many different ways are there of making up a specified amount of money, given a list of available denominations?\n",
    "\n",
    "E.g., how many ways of making 10 cents, given 1c, 5c, 10c, 25c coins?"
   ]
  },
  {
   "cell_type": "code",
   "execution_count": 101,
   "metadata": {
    "state": "normal"
   },
   "outputs": [],
   "source": [
    "def change(amount, denoms):\n",
    "    if amount == 0:\n",
    "        return 1\n",
    "    elif amount < 0 or len(denoms) == 0:\n",
    "        return 0\n",
    "    else:\n",
    "        return change(amount-denoms[0], denoms) + change(amount, denoms[1:])"
   ]
  },
  {
   "cell_type": "code",
   "execution_count": 102,
   "metadata": {
    "state": "normal"
   },
   "outputs": [
    {
     "data": {
      "text/plain": [
       "2"
      ]
     },
     "execution_count": 102,
     "metadata": {},
     "output_type": "execute_result"
    }
   ],
   "source": [
    "change(5, (1, 5, 10, 25))"
   ]
  },
  {
   "cell_type": "code",
   "execution_count": 103,
   "metadata": {
    "state": "normal"
   },
   "outputs": [
    {
     "data": {
      "text/plain": [
       "4"
      ]
     },
     "execution_count": 103,
     "metadata": {},
     "output_type": "execute_result"
    }
   ],
   "source": [
    "change(10, (1, 5, 10, 25))"
   ]
  },
  {
   "cell_type": "code",
   "execution_count": 104,
   "metadata": {
    "state": "normal"
   },
   "outputs": [
    {
     "data": {
      "text/plain": [
       "242"
      ]
     },
     "execution_count": 104,
     "metadata": {},
     "output_type": "execute_result"
    }
   ],
   "source": [
    "change(100, (1, 5, 10, 25))"
   ]
  },
  {
   "cell_type": "code",
   "execution_count": 105,
   "metadata": {
    "state": "normal"
   },
   "outputs": [],
   "source": [
    "def change(amount, denoms):\n",
    "    if amount == 0:\n",
    "        return [()]\n",
    "    elif amount < 0 or len(denoms) == 0:\n",
    "        return []\n",
    "    else:\n",
    "        ways1 = [(denoms[0],) + w for w in change(amount-denoms[0], denoms)]\n",
    "        ways2 = change(amount, denoms[1:])\n",
    "        return ways1 + ways2    "
   ]
  },
  {
   "cell_type": "code",
   "execution_count": 106,
   "metadata": {
    "state": "normal"
   },
   "outputs": [
    {
     "data": {
      "text/plain": [
       "[(1, 1, 1, 1, 1), (5,)]"
      ]
     },
     "execution_count": 106,
     "metadata": {},
     "output_type": "execute_result"
    }
   ],
   "source": [
    "change(5, (1, 5, 10, 25))"
   ]
  },
  {
   "cell_type": "code",
   "execution_count": 107,
   "metadata": {
    "state": "normal"
   },
   "outputs": [
    {
     "data": {
      "text/plain": [
       "[(1, 1, 1, 1, 1, 1, 1, 1, 1, 1), (1, 1, 1, 1, 1, 5), (5, 5), (10,)]"
      ]
     },
     "execution_count": 107,
     "metadata": {},
     "output_type": "execute_result"
    }
   ],
   "source": [
    "change(10, (1, 5, 10, 25))"
   ]
  },
  {
   "cell_type": "code",
   "execution_count": 108,
   "metadata": {
    "state": "normal"
   },
   "outputs": [
    {
     "data": {
      "text/plain": [
       "[(1, 1, 1, 1, 1, 1, 1, 1, 1, 1, 1, 1, 1, 1, 1, 1, 1, 1, 1, 1, 1, 1, 1, 1, 1),\n",
       " (1, 1, 1, 1, 1, 1, 1, 1, 1, 1, 1, 1, 1, 1, 1, 1, 1, 1, 1, 1, 5),\n",
       " (1, 1, 1, 1, 1, 1, 1, 1, 1, 1, 1, 1, 1, 1, 1, 5, 5),\n",
       " (1, 1, 1, 1, 1, 1, 1, 1, 1, 1, 1, 1, 1, 1, 1, 10),\n",
       " (1, 1, 1, 1, 1, 1, 1, 1, 1, 1, 5, 5, 5),\n",
       " (1, 1, 1, 1, 1, 1, 1, 1, 1, 1, 5, 10),\n",
       " (1, 1, 1, 1, 1, 5, 5, 5, 5),\n",
       " (1, 1, 1, 1, 1, 5, 5, 10),\n",
       " (1, 1, 1, 1, 1, 10, 10),\n",
       " (5, 5, 5, 5, 5),\n",
       " (5, 5, 5, 10),\n",
       " (5, 10, 10),\n",
       " (25,)]"
      ]
     },
     "execution_count": 108,
     "metadata": {},
     "output_type": "execute_result"
    }
   ],
   "source": [
    "change(25, (1, 5, 10, 25))"
   ]
  },
  {
   "cell_type": "markdown",
   "metadata": {
    "state": "normal"
   },
   "source": [
    "## 3. The Call Stack"
   ]
  },
  {
   "cell_type": "markdown",
   "metadata": {
    "state": "normal"
   },
   "source": [
    "Much of the power of recursion stems from the fact that each recursive call \"remembers\" its state -- i.e., it keeps track of:\n",
    "\n",
    "- the values of local variables\n",
    "- where it left off\n",
    "- what it still has left to do (e.g., other recursive calls, in the case of tree recursion)\n",
    "\n",
    "This is possible because each recursive function call (in fact, *all* function calls) allocate space on the **call stack** in a predictable way. Each entry on the call stack --- known as a stack frame or activation record --- is used to save the state of an executing function."
   ]
  },
  {
   "cell_type": "markdown",
   "metadata": {},
   "source": [
    "Consider the recursive Fibonacci generator function:"
   ]
  },
  {
   "cell_type": "code",
   "execution_count": 109,
   "metadata": {},
   "outputs": [],
   "source": [
    "def fib(n):\n",
    "    if n == 0:\n",
    "        return 0\n",
    "    elif n == 1:\n",
    "        return 1\n",
    "    else:\n",
    "        return fib(n-1) + fib(n-2)"
   ]
  },
  {
   "cell_type": "markdown",
   "metadata": {},
   "source": [
    "Each time `fib` is called with $n>1$, we must keep track of two separate recursive calls (and their arguments), whose results must then be summed up before returning."
   ]
  },
  {
   "cell_type": "markdown",
   "metadata": {},
   "source": [
    "### Simulating recursion with a stack\n",
    "\n",
    "Any recursive function can be re-implemented iteratively (i.e., using one or more loops) through the use of an explicit supporting stack data structure!"
   ]
  },
  {
   "cell_type": "code",
   "execution_count": 110,
   "metadata": {},
   "outputs": [],
   "source": [
    "def fib(n):\n",
    "    stack = [n]\n",
    "    result = 0\n",
    "    while stack:\n",
    "        print(stack)\n",
    "        n = stack.pop()\n",
    "        if n == 0:\n",
    "            result += 0\n",
    "        elif n == 1:\n",
    "            result += 1\n",
    "        else:\n",
    "            stack.append(n-1)\n",
    "            stack.append(n-2)\n",
    "    return result"
   ]
  },
  {
   "cell_type": "code",
   "execution_count": 111,
   "metadata": {},
   "outputs": [
    {
     "name": "stdout",
     "output_type": "stream",
     "text": [
      "[7]\n",
      "[6, 5]\n",
      "[6, 4, 3]\n",
      "[6, 4, 2, 1]\n",
      "[6, 4, 2]\n",
      "[6, 4, 1, 0]\n",
      "[6, 4, 1]\n",
      "[6, 4]\n",
      "[6, 3, 2]\n",
      "[6, 3, 1, 0]\n",
      "[6, 3, 1]\n",
      "[6, 3]\n",
      "[6, 2, 1]\n",
      "[6, 2]\n",
      "[6, 1, 0]\n",
      "[6, 1]\n",
      "[6]\n",
      "[5, 4]\n",
      "[5, 3, 2]\n",
      "[5, 3, 1, 0]\n",
      "[5, 3, 1]\n",
      "[5, 3]\n",
      "[5, 2, 1]\n",
      "[5, 2]\n",
      "[5, 1, 0]\n",
      "[5, 1]\n",
      "[5]\n",
      "[4, 3]\n",
      "[4, 2, 1]\n",
      "[4, 2]\n",
      "[4, 1, 0]\n",
      "[4, 1]\n",
      "[4]\n",
      "[3, 2]\n",
      "[3, 1, 0]\n",
      "[3, 1]\n",
      "[3]\n",
      "[2, 1]\n",
      "[2]\n",
      "[1, 0]\n",
      "[1]\n"
     ]
    },
    {
     "data": {
      "text/plain": [
       "13"
      ]
     },
     "execution_count": 111,
     "metadata": {},
     "output_type": "execute_result"
    }
   ],
   "source": [
    "fib(7)"
   ]
  },
  {
   "cell_type": "code",
   "execution_count": 112,
   "metadata": {},
   "outputs": [],
   "source": [
    "def price(bag):\n",
    "    total = 0\n",
    "    stack = [bag]\n",
    "    while stack:\n",
    "        b = stack.pop()\n",
    "        total += b.price\n",
    "        for b1 in b.contents:\n",
    "            stack.append(b1)\n",
    "    return total"
   ]
  },
  {
   "cell_type": "code",
   "execution_count": 113,
   "metadata": {
    "state": "normal"
   },
   "outputs": [],
   "source": [
    "bag4 = Bag(0, \n",
    "           Bag(5), \n",
    "           Bag(10), \n",
    "           Bag(3, \n",
    "               Bag(2), \n",
    "               Bag(100)), \n",
    "           Bag(9, \n",
    "               Bag(2, \n",
    "                   Bag(25))))"
   ]
  },
  {
   "cell_type": "code",
   "execution_count": 114,
   "metadata": {},
   "outputs": [
    {
     "data": {
      "text/plain": [
       "156"
      ]
     },
     "execution_count": 114,
     "metadata": {},
     "output_type": "execute_result"
    }
   ],
   "source": [
    "price(bag4)"
   ]
  },
  {
   "cell_type": "markdown",
   "metadata": {},
   "source": [
    "Even though we *can* re-implement recursion using an explicit stack, doing so often leads to much less legible (and harder to maintain) code. Recursion often yields much more intuitive, elegant code!"
   ]
  },
  {
   "cell_type": "markdown",
   "metadata": {
    "state": "normal"
   },
   "source": [
    "### Examining the call stack with `pdb` and `%debug`"
   ]
  },
  {
   "cell_type": "code",
   "execution_count": null,
   "metadata": {
    "state": "normal"
   },
   "outputs": [],
   "source": [
    "def factorial(n):\n",
    "    if n <= 1:\n",
    "        raise Exception('base case!')\n",
    "    else:\n",
    "        return n * factorial(n-1)"
   ]
  },
  {
   "cell_type": "code",
   "execution_count": null,
   "metadata": {
    "state": "normal"
   },
   "outputs": [],
   "source": [
    "factorial(10)"
   ]
  },
  {
   "cell_type": "code",
   "execution_count": null,
   "metadata": {
    "state": "normal"
   },
   "outputs": [],
   "source": [
    "%debug\n",
    "# commands to try:\n",
    "# help, where, args, p n, up, u 10, down, d 10, l, up 100, u, d (& enter to repeat)"
   ]
  },
  {
   "cell_type": "code",
   "execution_count": null,
   "metadata": {
    "state": "normal"
   },
   "outputs": [],
   "source": [
    "def bin_search(x, lst):\n",
    "    if len(lst) == 0:\n",
    "        return False\n",
    "    else:\n",
    "        mid = len(lst) // 2\n",
    "        if lst[mid] < x:\n",
    "            return bin_search(x, lst[mid+1:])\n",
    "        elif lst[mid] > x:\n",
    "            return bin_search(x, lst[:mid])\n",
    "        else:\n",
    "            import pdb ; pdb.set_trace() # <-- start debugging here\n",
    "            return True    "
   ]
  },
  {
   "cell_type": "code",
   "execution_count": null,
   "metadata": {
    "state": "normal"
   },
   "outputs": [],
   "source": [
    "bin_search(20, list(range(100)))"
   ]
  }
 ],
 "metadata": {
  "kernelspec": {
   "display_name": "Python 3 (ipykernel)",
   "language": "python",
   "name": "python3"
  },
  "language_info": {
   "codemirror_mode": {
    "name": "ipython",
    "version": 3
   },
   "file_extension": ".py",
   "mimetype": "text/x-python",
   "name": "python",
   "nbconvert_exporter": "python",
   "pygments_lexer": "ipython3",
   "version": "3.9.7"
  },
  "mimir": {
   "data": {},
   "last_submission_id": "",
   "project_id": "a34a94f3-896f-434b-962f-1ec01093d513"
  },
  "varInspector": {
   "cols": {
    "lenName": 16,
    "lenType": 16,
    "lenVar": 40
   },
   "kernels_config": {
    "python": {
     "delete_cmd_postfix": "",
     "delete_cmd_prefix": "del ",
     "library": "var_list.py",
     "varRefreshCmd": "print(var_dic_list())"
    },
    "r": {
     "delete_cmd_postfix": ") ",
     "delete_cmd_prefix": "rm(",
     "library": "var_list.r",
     "varRefreshCmd": "cat(var_dic_list()) "
    }
   },
   "types_to_exclude": [
    "module",
    "function",
    "builtin_function_or_method",
    "instance",
    "_Feature"
   ],
   "window_display": false
  }
 },
 "nbformat": 4,
 "nbformat_minor": 4
}
